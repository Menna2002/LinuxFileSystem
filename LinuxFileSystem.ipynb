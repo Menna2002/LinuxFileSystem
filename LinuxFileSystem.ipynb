{
 "cells": [
  {
   "cell_type": "markdown",
   "id": "66cb7750",
   "metadata": {},
   "source": [
    "# Linux File System:-"
   ]
  },
  {
   "cell_type": "markdown",
   "id": "aab990a8-0f11-4e7d-b031-3c0c68436f75",
   "metadata": {},
   "source": [
    "## import libraries"
   ]
  },
  {
   "cell_type": "code",
   "execution_count": 1,
   "id": "aff72c1f-a332-4309-bfd4-e3433fd3636a",
   "metadata": {},
   "outputs": [],
   "source": [
    "# Importing the datetime class from the datetime module\n",
    "from datetime import datetime\n",
    "\n",
    "# Importing the random module and aliasing it as 'rd'\n",
    "import random as rd\n",
    "\n",
    "# Importing the math module and aliasing it as 'm'\n",
    "import math as m\n",
    "\n",
    "# Importing the uuid module for working with UUIDs\n",
    "import uuid\n"
   ]
  },
  {
   "cell_type": "markdown",
   "id": "6c4782ed-85c4-4c2c-9e14-445b00fa0b97",
   "metadata": {},
   "source": [
    "## create root => directory => file"
   ]
  },
  {
   "cell_type": "code",
   "execution_count": 71,
   "id": "88be0422-e04a-4686-a696-17e5f126a401",
   "metadata": {},
   "outputs": [],
   "source": [
    "class root:\n",
    "    def __init__(self, root_label, size):\n",
    "        # Initializing instance variables\n",
    "        self.parent = None \n",
    "        self.root_label = root_label  # define root label\n",
    "        self.identifier = str(uuid.uuid4())  # Generating a unique identifier for the root\n",
    "        self.size = size  # Size of the root in bytes\n",
    "        self.used_space = 0  # Initializing used space to 0\n",
    "        self.free_space = self.size - self.used_space  # Calculating free space\n",
    "        self.n_blocks = m.floor(self.size / 4)  # Calculating the number of blocks based on size (block size is 4 bytes)\n",
    "        self.children = [Directory(\"users\")]  # Creating a list with a single Directory object\n",
    "        self.children[0].parent = self  # Setting the parent of the Directory object to this root\n",
    "        self.children[0].location = f\"{self.root_label}:\\\\\"\n",
    "        # Dictionary to store user accounts within the root\n",
    "        self.user_accounts = {}\n",
    "        # Creating an initial user account for 'Administrator' with default password and role\n",
    "        self.create_user(\"Administrator\", str(12345), \"Admin\")\n",
    "    \n",
    "    def authenticate(self, username, password):\n",
    "        # Authenticating users based on username and password\n",
    "        if username in self.user_accounts and self.user_accounts[username][0] == password:\n",
    "            return True  # Authentication successful\n",
    "        return False  # Authentication failed\n",
    "\n",
    "    def create_user(self, username, password, role):\n",
    "        # Creating a new user account\n",
    "        if username not in self.user_accounts:\n",
    "            self.user_accounts[username] = [password, role]  # Storing user details in a dictionary\n",
    "            print(f\"User '{username}' created successfully with role: {role}\")\n",
    "            self.children[0].add(Directory(f\"{username}\"))  # Adding a directory for the user\n",
    "        else:\n",
    "            print(\"Username already exists. Please choose another username.\")\n",
    "\n",
    "    def modify_user(self, username, new_username, new_password):\n",
    "        # Modifying an existing user's details\n",
    "        if username in self.user_accounts:\n",
    "            # Updating user details with new username and/or password\n",
    "            self.user_accounts[new_username] = [new_password, self.user_accounts.pop(username)[1]]\n",
    "            print(f\"User '{username}' modified successfully to '{new_username}'\")\n",
    "        else:\n",
    "            print(\"User not found. Cannot modify.\")\n",
    "            \n",
    "    def display_root_content(self):\n",
    "    # Display the content of the root\n",
    "        for child in self.children:\n",
    "            child.display_content()"
   ]
  },
  {
   "cell_type": "code",
   "execution_count": 72,
   "id": "300d02ad-1864-47e9-b854-1f7f34ce1419",
   "metadata": {},
   "outputs": [],
   "source": [
    "class File: \n",
    "    def __init__(self, file_name, location, Type, protection, content=\"\"):\n",
    "        # Initializing file attributes\n",
    "        self.name = file_name\n",
    "        self.content = content\n",
    "        self.size = len(str(content))  # Calculate size based on content \n",
    "        self.location = location  # Location within the root\n",
    "        self.protection = protection\n",
    "        self.identifier = rd.randint(0, 99999)  # Generating a random identifier\n",
    "        self.type = \".\" + Type\n",
    "        self.blocks = m.ceil(self.size / 4)  # Calculating the number of blocks based on size\n",
    "        self.creation_time = datetime.now()\n",
    "        self.modification_time = datetime.now()\n",
    "        self.access_time = datetime.now()\n",
    "        self.parent = None  # Parent directory (not used in methods)\n",
    "        \n",
    "        # we didn't define self.children for file node as file node always will be the leaf node\n",
    "\n",
    "    def read_content(self):\n",
    "        # Read and update access time\n",
    "        self.access_time = datetime.now()\n",
    "        return self.content\n",
    "\n",
    "    def write_content(self, new_content):\n",
    "        # Write new content, update attributes, and access time\n",
    "        self.access_time = datetime.now()\n",
    "        self.content = new_content\n",
    "        self.modification_time = datetime.now()\n",
    "        self.size = len(new_content)\n",
    "        self.blocks = m.ceil(self.size / 4)\n",
    "\n",
    "    def change_protection(self, new_protection, account_type):\n",
    "        # Change protection if account type is \"Admin\", update access and modification times\n",
    "        if account_type == \"Admin\":\n",
    "            self.access_time = datetime.now()\n",
    "            self.protection = new_protection\n",
    "            self.modification_time = datetime.now()\n",
    "        else:\n",
    "            print(\"Unable to change protection. Please log in as an administrator.\")\n",
    "\n",
    "    def Rename(self, new_name):\n",
    "        # Rename file, update attributes, and modification time\n",
    "        self.access_time = datetime.now()\n",
    "        self.name = new_name\n",
    "        self.modification_time = datetime.now()\n",
    "\n",
    "    def get_information(self):\n",
    "        # Display file information with formatted sizes and timestamps\n",
    "        def format_size(size_in_bytes):\n",
    "            units = ['B', 'KB', 'MB', 'GB']\n",
    "            unit_index = 0\n",
    "\n",
    "            while size_in_bytes >= 1024 and unit_index < len(units) - 1:\n",
    "                size_in_bytes /= 1024.0\n",
    "                unit_index += 1\n",
    "\n",
    "            return f\"{size_in_bytes:.2f} {units[unit_index]}\"\n",
    "\n",
    "        print(\n",
    "            \"Name: \", self.name,\n",
    "            \"\\nIdentifier: \", self.identifier,\n",
    "            \"\\nLocation: \", self.location,\n",
    "            \"\\nType: \", self.type,\n",
    "            \"\\nSize: \", format_size(self.size),\n",
    "            \"\\nBlocks: \", self.blocks,\n",
    "            \"\\nProtection: \", self.protection,\n",
    "            \"\\nCreation Time: \", self.creation_time.strftime(\"%Y-%m-%d %H:%M:%S\"),\n",
    "            \"\\nModification Time: \", self.modification_time.strftime(\"%Y-%m-%d %H:%M:%S\"),\n",
    "            \"\\nAccess Time: \", self.access_time.strftime(\"%Y-%m-%d %H:%M:%S\")\n",
    "        )"
   ]
  },
  {
   "cell_type": "code",
   "execution_count": 73,
   "id": "537ea3b2-b5f7-4942-9327-55b8d5e8661e",
   "metadata": {},
   "outputs": [],
   "source": [
    "class Directory(File):\n",
    "    \"\"\"\n",
    "    Explanation:\n",
    "    The Directory class inherits from the File class and manages directories.\n",
    "    \"\"\"   \n",
    "    def __init__(self, directory_name):\n",
    "        # Initialize Directory attributes\n",
    "        super().__init__(directory_name, \"\", \"Folder\", protection=\"rw+\")\n",
    "        self.permissions = {\n",
    "            \"Admin\": \"rw\",  # Admin has read and write access by default\n",
    "            \"Guest\": \"r\"    # Guest has read-only access by default\n",
    "        }\n",
    "        self.children = []  # To hold files or subdirectories\n",
    "        self.parent = None  # Parent directory \n",
    "\n",
    "    def change_directory_permissions(self, new_permissions, account_type):\n",
    "        # Change directory permissions if account type is \"Admin\"\n",
    "        if account_type in self.permissions and account_type == \"Admin\":\n",
    "            self.permissions[account_type] = new_permissions\n",
    "            print(f\"Directory permissions changed to '{new_permissions}' successfully.\")\n",
    "        else:\n",
    "            print(\"Unable to change directory permissions. Login as administrator required.\")\n",
    "    \n",
    "    def add(self, child):\n",
    "        # Add a child (file or subdirectory) to the directory\n",
    "        self.children.append(child)\n",
    "        self.Calculation()  # Recalculate sizes and blocks\n",
    "        child.parent = self\n",
    "        self.Adjust_location(child)  # Adjust location of the child within the directory\n",
    "     \n",
    "\n",
    "    def copy_file(self, file, destination_directory):\n",
    "        # Create a copy of the file and add it to the destination directory\n",
    "        copied_file = File(file.name,  destination_directory.name, file.type, file.protection, 4)\n",
    "        # Copy file attributes\n",
    "        copied_file.content = file.content\n",
    "        copied_file.size = file.size\n",
    "        copied_file.blocks = file.blocks\n",
    "        copied_file.creation_time = file.creation_time\n",
    "        copied_file.modification_time = file.modification_time\n",
    "        copied_file.access_time = file.access_time\n",
    "        destination_directory.add(copied_file)  # Add copied file to the destination directory\n",
    "        destination_directory.Calculation()  # Recalculate sizes and blocks\n",
    "        copied_file.parent = destination_directory  # Set the copied file's parent as the destination directory\n",
    "        self.Adjust_location(copied_file)  # Adjust the copied file's location\n",
    "        \n",
    "    def delete(self, file_name):\n",
    "        # Delete a file with the given name from the directory\n",
    "        for child in self.children:\n",
    "            if isinstance(child, File) and child.name == file_name:\n",
    "                self.children.remove(child)\n",
    "                break\n",
    "        self.Calculation()  # Recalculate sizes and blocks after deletion\n",
    "        \n",
    "    def move(self, file_name, destination_directory):\n",
    "        # Move a file with the given name to the destination directory\n",
    "        for child in self.children:\n",
    "            if isinstance(child, File) and child.name == file_name:\n",
    "                destination_directory.add(child)  # Add the file to the destination directory\n",
    "                child.parent = destination_directory  # Update the file's parent\n",
    "                self.children.remove(child)  # Remove the file from the current directory\n",
    "                self.Adjust_location(child)  # Adjust the file's location\n",
    "                break\n",
    "        self.Calculation()  # Recalculate sizes and blocks after moving\n",
    "        \n",
    "    def search(self, target_name):\n",
    "        # Search for a file or directory with the given target name\n",
    "        founded = []\n",
    "        \n",
    "        def dfs(node, target_name):\n",
    "            if node is None:\n",
    "                return \"couldn't find what you are looking for\"\n",
    "            if node.name == target_name:\n",
    "                founded.append(node)\n",
    "            if isinstance(node, Directory):\n",
    "                for child in node.children:\n",
    "                    dfs(child, target_name)\n",
    "        \n",
    "        dfs(self, target_name)\n",
    "        \n",
    "        return founded\n",
    "\n",
    "    def Calculation(self, parent=None):\n",
    "        # Recalculate sizes and blocks within the directory structure\n",
    "        parent = self if parent is None else parent\n",
    "        if hasattr(parent, 'root_label'):  # Check if the parent has the attribute 'root_label'\n",
    "            # Perform calculations specific to the 'root' class here\n",
    "            parent.used_space = sum(child.size for child in parent.children)\n",
    "            parent.free_space = parent.size - parent.used_space\n",
    "        else:\n",
    "            # Perform calculations for other types of parent directories\n",
    "            parent.size = sum(child.size for child in parent.children)\n",
    "            parent.blocks = sum(child.blocks for child in parent.children)\n",
    "        if parent.parent:\n",
    "            self.Calculation(parent.parent)  # Recursive call to calculate parent directory sizes\n",
    "\n",
    "    \n",
    "    def Adjust_location(self, child):\n",
    "        # Adjust the location of a child file or directory within the directory structure\n",
    "        child.location = child.parent.location + f\"{child.parent.name}\\\\\"\n",
    "        if isinstance(child, Directory) and child.children:\n",
    "            for kid in child.children:\n",
    "                self.Adjust_location(kid)\n",
    "        else:\n",
    "            return\n",
    "            \n",
    "    def display_content(self, indent=0):\n",
    "        # Display the content of the directory in a tree-like structure\n",
    "        for child in self.children:\n",
    "            if isinstance(child, Directory):\n",
    "                print(\" \" * indent + f\"Directory: {child.name} - Location: {child.location}\")\n",
    "                child.display_content(indent + 4)  # Recursive call for subdirectories\n",
    "            elif isinstance(child, File):\n",
    "                print(\" \" * indent + f\"File: {child.name} ({child.type}) - Location: {child.location}\")"
   ]
  },
  {
   "cell_type": "markdown",
   "id": "256a66bb-8b36-4eb3-b093-2afc49962b0b",
   "metadata": {},
   "source": [
    "## test the code"
   ]
  },
  {
   "cell_type": "code",
   "execution_count": 74,
   "id": "3fe11932-153e-44a0-8cbf-ccf7c1b8480a",
   "metadata": {},
   "outputs": [
    {
     "name": "stdout",
     "output_type": "stream",
     "text": [
      "Name:  hello \n",
      "Identifier:  31083 \n",
      "Location:  :\\ \n",
      "Type:  .txt \n",
      "Size:  2.32 KB \n",
      "Blocks:  595 \n",
      "Protection:  rw- \n",
      "Creation Time:  2024-01-04 18:45:37 \n",
      "Modification Time:  2024-01-04 18:45:37 \n",
      "Access Time:  2024-01-04 18:45:37\n"
     ]
    }
   ],
   "source": [
    "# creating a file with large content to test\n",
    "content = \"\"\"he vast expanse of the cosmos, where galaxies twirl in a cosmic dance and stars flicker \n",
    "like distant candles, a tapestry of celestial wonders unfolds. Nebulas, those ethereal clouds of gas and dust, \n",
    "paint the cosmic canvas with hues of emerald and ruby, as if nature itself were an artist wielding the brush of creation. \n",
    "In the quiet corners of the universe, black holes lurk like cosmic phantoms, \n",
    "their gravitational embrace bending the very fabric of space and time.\n",
    "As the cosmic clock ticks away eons, planets orbit their parent stars, \n",
    "each with its own unique story etched in the geological tapestry of its surface.\n",
    "Moons, silent witnesses to the drama unfolding in the cosmic theater, cast their soft glow upon the landscapes below.\n",
    "In the dance of cosmic forces, supernovae unleash torrents of energy, scattering the elements forged in their\n",
    "fiery hearts across the cosmic stage, contributing to the grand cycle of stellar birth and death.\n",
    "Amidst this cosmic ballet, life, a precious rarity, emerges on a pale blue dot suspended in the sunbeam of a star. \n",
    "On Earth, oceans teem with diverse life forms, and lush forests breathe with the rhythm of existence. \n",
    "Creatures of every shape and size navigate the intricate web of ecosystems, each playing a role in the grand symphony of life. \n",
    "Human intellect, a spark of consciousness, seeks to unravel the mysteries of the cosmos, \n",
    "reaching out to the stars with a thirst for knowledge that transcends the boundaries of our home planet.\n",
    "Through the corridors of time, civilizations rise and fall, leaving behind echoes of their existence in the annals of history. \n",
    "The written word, a testament to human creativity, weaves tales of triumph and tragedy, of love and loss, \n",
    "forming a mosaic of human experience. Art, in its myriad forms, captures the essence of emotion and thought,\n",
    "preserving the collective soul of humanity across the ages.\n",
    "In the boundless realms of imagination, dreams take flight like cosmic butterflies, \n",
    "fluttering through the corridors of possibility. Science and technology, the twin engines of human progress, propel us towards the stars,\n",
    "as we strive to unlock the secrets of the universe and chart our course through the cosmic ocean. \n",
    "And so, the journey continues, an odyssey of discovery, \n",
    "an exploration of the infinite possibilities that await in the ever-expanding tapestry of existence.\"\"\"\n",
    "\n",
    "f1 = File(\"hello\",\":\\\\\",\"txt\",\"rw-\",content)\n",
    "f1.get_information()"
   ]
  },
  {
   "cell_type": "code",
   "execution_count": 75,
   "id": "46676c00-58e1-414a-98f9-0d5dca674a67",
   "metadata": {},
   "outputs": [
    {
     "name": "stdout",
     "output_type": "stream",
     "text": [
      "Name:  D1 \n",
      "Identifier:  86916 \n",
      "Location:   \n",
      "Type:  .Folder \n",
      "Size:  0.00 B \n",
      "Blocks:  0 \n",
      "Protection:  rw+ \n",
      "Creation Time:  2024-01-04 18:45:38 \n",
      "Modification Time:  2024-01-04 18:45:38 \n",
      "Access Time:  2024-01-04 18:45:38\n"
     ]
    }
   ],
   "source": [
    "# D1 have no content now\n",
    "D1 = Directory(\"D1\")\n",
    "D1.get_information()"
   ]
  },
  {
   "cell_type": "code",
   "execution_count": 76,
   "id": "3dda570a-92aa-4403-a2a6-02c0157c6701",
   "metadata": {},
   "outputs": [
    {
     "name": "stdout",
     "output_type": "stream",
     "text": [
      "\n",
      "Name:  D1 \n",
      "Identifier:  86916 \n",
      "Location:   \n",
      "Type:  .Folder \n",
      "Size:  56.00 B \n",
      "Blocks:  15 \n",
      "Protection:  rw+ \n",
      "Creation Time:  2024-01-04 18:45:38 \n",
      "Modification Time:  2024-01-04 18:45:38 \n",
      "Access Time:  2024-01-04 18:45:38\n"
     ]
    }
   ],
   "source": [
    "D2 = Directory(\"D2\")\n",
    "D3 = Directory(\"D3\")\n",
    "Mina = File(\"Mina\",\":\\\\\",\"txt\",\"rw-\",\"Miano pleasure to meet you.\")\n",
    "Luna = File(\"Luna\",\":\\\\\",\"txt\",\"rw-\",\"nice to meet you this is me ?\")\n",
    "\n",
    "D1.add(D2)#add directory 2 to the directory 1\n",
    "D2.add(D3)# add directory 3 to the directory 2\n",
    "D2.add(Mina)# add file to the directory 2\n",
    "D1.add(Luna)# add file to the directory 1\n",
    "\n",
    "print()\n",
    "\"\"\"\n",
    "Explaination :\n",
    "File 1 : len(\"Miano pleasure to meet you.\") : 27 => 27/ size of block (4) =>6.75 (7 blocks)\n",
    "File 2 : len(\"nice to meet you this is me ?\") : 29 => 29/4 => 7.25 (8 blocks)\n",
    "\n",
    "Directory Inherited the attributes of file so the size used in directory =>  27 + 29 = 56 byte\n",
    "the total blocks used in directory  => 7 + 8 = 15 block\n",
    "\"\"\"\n",
    "D1.get_information()"
   ]
  },
  {
   "cell_type": "code",
   "execution_count": 77,
   "id": "ec7e55fe-f660-4239-8385-05a92a1dc2ab",
   "metadata": {},
   "outputs": [
    {
     "data": {
      "text/plain": [
       "[<__main__.File at 0x20c64adf9d0>]"
      ]
     },
     "execution_count": 77,
     "metadata": {},
     "output_type": "execute_result"
    }
   ],
   "source": [
    "D1.search(\"Mina\")#will print objects that matches the same name and append it to list"
   ]
  },
  {
   "cell_type": "code",
   "execution_count": 78,
   "id": "8e7d31c3",
   "metadata": {},
   "outputs": [
    {
     "data": {
      "text/plain": [
       "'Miano pleasure to meet you.'"
      ]
     },
     "execution_count": 78,
     "metadata": {},
     "output_type": "execute_result"
    }
   ],
   "source": [
    "# since search function return list containing objects that has the same name\n",
    "# we access this list by indices to show object \n",
    "D1.search(\"Mina\")[0].content "
   ]
  },
  {
   "cell_type": "code",
   "execution_count": 79,
   "id": "d78b5aa6-7260-4f35-a65b-671fb1c7e953",
   "metadata": {},
   "outputs": [
    {
     "name": "stdout",
     "output_type": "stream",
     "text": [
      "Directory: D2 - Location: D1\\\n",
      "    Directory: D3 - Location: D1\\D2\\\n",
      "    File: Mina (.txt) - Location: D1\\D2\\\n",
      "File: Luna (.txt) - Location: D1\\\n"
     ]
    }
   ],
   "source": [
    "D1.display_content() #display tree of parent"
   ]
  },
  {
   "cell_type": "code",
   "execution_count": 80,
   "id": "5e620cbd",
   "metadata": {},
   "outputs": [
    {
     "name": "stdout",
     "output_type": "stream",
     "text": [
      "Directory: D2 - Location: D1\\\n",
      "    Directory: D3 - Location: D1\\D2\\\n",
      "        File: Mina (..txt) - Location: D1\\D2\\D3\\\n",
      "    File: Mina (.txt) - Location: D1\\D2\\\n",
      "File: Luna (.txt) - Location: D1\\\n"
     ]
    }
   ],
   "source": [
    "#copy Mina file and change the destination of the file to the directory3\n",
    "D1.copy_file(D1.search(\"Mina\")[0],D1.search(\"D3\")[0])\n",
    "D1.display_content()"
   ]
  },
  {
   "cell_type": "code",
   "execution_count": 81,
   "id": "c50e83ba-76fc-42f2-be8b-659d667f39ae",
   "metadata": {},
   "outputs": [
    {
     "name": "stdout",
     "output_type": "stream",
     "text": [
      "Directory: D2 - Location: D1\\\n",
      "    Directory: D3 - Location: D1\\D2\\\n",
      "        File: Mina (..txt) - Location: D1\\D2\\D3\\\n",
      "    File: Mina (.txt) - Location: D1\\D2\\\n",
      "    File: Luna (.txt) - Location: D1\\D2\\\n"
     ]
    }
   ],
   "source": [
    "# move lina into D2 \n",
    "# D1 conatins D2\n",
    "# D2 contain luna and mina\n",
    "D1.move(\"Luna\",D1.search(\"D2\")[0])\n",
    "D1.display_content()"
   ]
  },
  {
   "cell_type": "code",
   "execution_count": 82,
   "id": "fa6af0f5-8e12-492d-b497-c08f54dccb43",
   "metadata": {},
   "outputs": [
    {
     "name": "stdout",
     "output_type": "stream",
     "text": [
      "Directory: D3 - Location: D1\\D2\\\n",
      "    File: Mina (..txt) - Location: D1\\D2\\D3\\\n",
      "File: Mina (.txt) - Location: D1\\D2\\\n",
      "File: Luna (.txt) - Location: D1\\D2\\\n"
     ]
    }
   ],
   "source": [
    "D2.display_content()"
   ]
  },
  {
   "cell_type": "code",
   "execution_count": 83,
   "id": "40611c7d-59fd-4a1e-9300-926e9bb792e3",
   "metadata": {},
   "outputs": [],
   "source": [
    "# add the large file (hello) in D1\n",
    "D1.add(f1)"
   ]
  },
  {
   "cell_type": "code",
   "execution_count": 84,
   "id": "2d423565-ebca-42d3-8014-c33974eb03ee",
   "metadata": {},
   "outputs": [
    {
     "name": "stdout",
     "output_type": "stream",
     "text": [
      "Directory: D2 - Location: D1\\\n",
      "    Directory: D3 - Location: D1\\D2\\\n",
      "        File: Mina (..txt) - Location: D1\\D2\\D3\\\n",
      "    File: Mina (.txt) - Location: D1\\D2\\\n",
      "    File: Luna (.txt) - Location: D1\\D2\\\n",
      "File: hello (.txt) - Location: D1\\\n"
     ]
    }
   ],
   "source": [
    "# f1 is added\n",
    "D1.display_content()"
   ]
  },
  {
   "cell_type": "code",
   "execution_count": 85,
   "id": "23be380b-cdfd-4239-ab3e-8518244b78de",
   "metadata": {},
   "outputs": [
    {
     "name": "stdout",
     "output_type": "stream",
     "text": [
      "User 'Administrator' created successfully with role: Admin\n"
     ]
    }
   ],
   "source": [
    "# create root file\n",
    "root = root(\"Root\", 10000)"
   ]
  },
  {
   "cell_type": "code",
   "execution_count": 86,
   "id": "56868c05-7691-48fd-81a8-d0c321ff298a",
   "metadata": {},
   "outputs": [],
   "source": [
    "# create user file will be the first account \n",
    "user = root.children[0].search(\"Administrator\")[0]"
   ]
  },
  {
   "cell_type": "code",
   "execution_count": 87,
   "id": "4ef3687d-0afe-48cf-a670-2d0d5205e86f",
   "metadata": {},
   "outputs": [],
   "source": [
    "# now there is no contents in user directory\n",
    "user.display_content()"
   ]
  },
  {
   "cell_type": "code",
   "execution_count": 17,
   "id": "7943eeb0-1e43-4a1f-9849-6b88c6221f12",
   "metadata": {},
   "outputs": [
    {
     "name": "stdout",
     "output_type": "stream",
     "text": [
      "Directory: Administrator - Location: Root:\\users\\\n"
     ]
    }
   ],
   "source": [
    "# root have Administrator file account\n",
    "root.display_root_content()"
   ]
  },
  {
   "cell_type": "code",
   "execution_count": 88,
   "id": "997099d3-124a-4a1e-9c2c-56a092137f50",
   "metadata": {},
   "outputs": [],
   "source": [
    "# add content in user\n",
    "user.add(D1)\n",
    "user.add(f1)"
   ]
  },
  {
   "cell_type": "code",
   "execution_count": 89,
   "id": "1b384cbf-3e54-4506-acf1-a857940292cc",
   "metadata": {},
   "outputs": [
    {
     "name": "stdout",
     "output_type": "stream",
     "text": [
      "Directory: D1 - Location: Root:\\users\\Administrator\\\n",
      "    Directory: D2 - Location: Root:\\users\\Administrator\\D1\\\n",
      "        Directory: D3 - Location: Root:\\users\\Administrator\\D1\\D2\\\n",
      "            File: Mina (..txt) - Location: Root:\\users\\Administrator\\D1\\D2\\D3\\\n",
      "        File: Mina (.txt) - Location: Root:\\users\\Administrator\\D1\\D2\\\n",
      "        File: Luna (.txt) - Location: Root:\\users\\Administrator\\D1\\D2\\\n",
      "    File: hello (.txt) - Location: Root:\\users\\Administrator\\\n",
      "File: hello (.txt) - Location: Root:\\users\\Administrator\\\n"
     ]
    }
   ],
   "source": [
    "# add D1(Contains(D2=>luna,mina,hello)) and hello\n",
    "user.display_content()"
   ]
  },
  {
   "cell_type": "code",
   "execution_count": 90,
   "id": "67893725-bead-4d60-af53-bc0d4a6fe521",
   "metadata": {},
   "outputs": [
    {
     "name": "stdout",
     "output_type": "stream",
     "text": [
      "Directory: D1 - Location: Root:\\users\\Administrator\\\n",
      "    Directory: D2 - Location: Root:\\users\\Administrator\\D1\\\n",
      "        Directory: D3 - Location: Root:\\users\\Administrator\\D1\\D2\\\n",
      "            File: Mina (..txt) - Location: Root:\\users\\Administrator\\D1\\D2\\D3\\\n",
      "        File: Mina (.txt) - Location: Root:\\users\\Administrator\\D1\\D2\\\n",
      "        File: Luna (.txt) - Location: Root:\\users\\Administrator\\D1\\D2\\\n",
      "    File: hello (.txt) - Location: Root:\\users\\Administrator\\\n"
     ]
    }
   ],
   "source": [
    "# delete file now conatian D1 only\n",
    "user.delete(\"hello\")\n",
    "user.display_content()"
   ]
  },
  {
   "cell_type": "code",
   "execution_count": 91,
   "id": "f75c97ed-de76-4cd1-b98a-e23b961e1fc8",
   "metadata": {},
   "outputs": [
    {
     "name": "stdout",
     "output_type": "stream",
     "text": [
      "10000 \n",
      " 2460 \n",
      " 7540\n"
     ]
    }
   ],
   "source": [
    "# check size in bytes\n",
    "print(root.size,\"\\n\",root.used_space,\"\\n\", root.free_space)"
   ]
  },
  {
   "cell_type": "code",
   "execution_count": 92,
   "id": "149d350e-4cb4-4792-8c6f-c29f88a26c7d",
   "metadata": {},
   "outputs": [
    {
     "name": "stdout",
     "output_type": "stream",
     "text": [
      "Directory: D1 - Location: Root:\\users\\Administrator\\\n",
      "    Directory: D2 - Location: Root:\\users\\Administrator\\D1\\\n",
      "        Directory: D3 - Location: Root:\\users\\Administrator\\D1\\D2\\\n",
      "            File: Mina (..txt) - Location: Root:\\users\\Administrator\\D1\\D2\\D3\\\n",
      "        File: Mina (.txt) - Location: Root:\\users\\Administrator\\D1\\D2\\\n",
      "        File: Luna (.txt) - Location: Root:\\users\\Administrator\\D1\\D2\\\n"
     ]
    }
   ],
   "source": [
    "# delete anther file from D1\n",
    "D1.delete(\"hello\")\n",
    "user.display_content()"
   ]
  },
  {
   "cell_type": "code",
   "execution_count": 93,
   "id": "6e268293-d75a-4d00-bbb2-6a1276fe9dc7",
   "metadata": {},
   "outputs": [
    {
     "name": "stdout",
     "output_type": "stream",
     "text": [
      "10000 \n",
      " 83 \n",
      " 9917\n"
     ]
    }
   ],
   "source": [
    "# check size in bytes => used space in small now as hello file was large\n",
    "print(root.size,\"\\n\",root.used_space,\"\\n\", root.free_space)"
   ]
  },
  {
   "cell_type": "code",
   "execution_count": null,
   "id": "4883e0da-2bb5-4441-8e78-b2a8d258e644",
   "metadata": {},
   "outputs": [],
   "source": []
  }
 ],
 "metadata": {
  "kernelspec": {
   "display_name": "Python 3 (ipykernel)",
   "language": "python",
   "name": "python3"
  },
  "language_info": {
   "codemirror_mode": {
    "name": "ipython",
    "version": 3
   },
   "file_extension": ".py",
   "mimetype": "text/x-python",
   "name": "python",
   "nbconvert_exporter": "python",
   "pygments_lexer": "ipython3",
   "version": "3.11.5"
  }
 },
 "nbformat": 4,
 "nbformat_minor": 5
}
